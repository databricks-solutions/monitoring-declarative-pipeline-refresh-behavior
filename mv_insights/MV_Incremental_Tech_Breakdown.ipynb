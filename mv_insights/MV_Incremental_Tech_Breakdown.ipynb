{
 "cells": [
  {
   "cell_type": "code",
   "execution_count": 0,
   "metadata": {
    "application/vnd.databricks.v1+cell": {
     "cellMetadata": {
      "byteLimit": 2048000,
      "rowLimit": 10000
     },
     "inputWidgets": {},
     "nuid": "20a3303a-0615-40e1-88d9-e94dcb4c4478",
     "showTitle": false,
     "tableResultSettingsMap": {},
     "title": ""
    }
   },
   "outputs": [
    {
     "name": "stdout",
     "output_type": "stream",
     "text": [
      "\u001b[43mNote: you may need to restart the kernel using %restart_python or dbutils.library.restartPython() to use updated packages.\u001b[0m\n"
     ]
    }
   ],
   "source": [
    "%pip install --upgrade databricks-sdk --quiet\n",
    "dbutils.library.restartPython()"
   ]
  },
  {
   "cell_type": "code",
   "execution_count": 0,
   "metadata": {
    "application/vnd.databricks.v1+cell": {
     "cellMetadata": {
      "byteLimit": 2048000,
      "rowLimit": 10000
     },
     "inputWidgets": {},
     "nuid": "c248055e-aa4a-48c3-9474-8855e657e55d",
     "showTitle": false,
     "tableResultSettingsMap": {},
     "title": ""
    }
   },
   "outputs": [
    {
     "name": "stdout",
     "output_type": "stream",
     "text": [
      "\n",
      "🗑️ Drop schema and initial table if previously created...\n",
      "\n",
      "📁 Creating catalog, schema, and initial table...\n",
      "\n",
      "👉 Inserting new data without random_number column...\n",
      "\n",
      "🧱 Creating initial materialized view (no random)...\n",
      "\n",
      "📄 Uploading MV definition to: /Users/andrea.tardif@databricks.com/mv_insights_query.sql\n",
      "\n",
      "🔧 Creating pipeline...\n",
      "🗑️ Deleting existing pipeline: a47df3f7-d267-4783-a9c1-d5d7726683a6\n",
      "✅ Created pipeline ID: e6e8285f-7f7f-4489-9f31-d2e2105d89e3\n",
      "🔗 Pipeline link: https://e2-demo-field-eng.cloud.databricks.com/pipelines/e6e8285f-7f7f-4489-9f31-d2e2105d89e3\n",
      "\n",
      "🚀 Starting pipeline update...\n",
      "🔗 Update in progress: https://e2-demo-field-eng.cloud.databricks.com/pipelines/e6e8285f-7f7f-4489-9f31-d2e2105d89e3/updates/18bbad4b-b60f-485d-8527-635580e95cc1\n",
      "📌 Pipeline update state: UpdateInfoState.CREATED\n",
      "📌 Pipeline update state: UpdateInfoState.WAITING_FOR_RESOURCES\n",
      "📌 Pipeline update state: UpdateInfoState.INITIALIZING\n",
      "📌 Pipeline update state: UpdateInfoState.SETTING_UP_TABLES\n",
      "📌 Pipeline update state: UpdateInfoState.RUNNING\n",
      "📌 Pipeline update state: UpdateInfoState.COMPLETED\n",
      "✅ Pipeline update complete.\n",
      "⏳ Waiting 10 seconds before continuing...\n",
      "\n",
      "\n",
      "👉 Inserting new data without random_number column...\n",
      "\n",
      "🚀 Starting pipeline update...\n",
      "🔗 Update in progress: https://e2-demo-field-eng.cloud.databricks.com/pipelines/e6e8285f-7f7f-4489-9f31-d2e2105d89e3/updates/2ccbb382-f4a7-46c2-a976-5f0f444527d0\n",
      "📌 Pipeline update state: UpdateInfoState.CREATED\n",
      "📌 Pipeline update state: UpdateInfoState.WAITING_FOR_RESOURCES\n",
      "📌 Pipeline update state: UpdateInfoState.INITIALIZING\n",
      "📌 Pipeline update state: UpdateInfoState.RUNNING\n",
      "📌 Pipeline update state: UpdateInfoState.COMPLETED\n",
      "✅ Pipeline update complete.\n",
      "⏳ Waiting 10 seconds before continuing...\n",
      "\n",
      "\n",
      "🔁 Updating MV to use RANDOM() in the SELECT...\n",
      "\n",
      "📄 Uploading MV definition to: /Users/andrea.tardif@databricks.com/mv_insights_query.sql\n",
      "\n",
      "👉 Inserting new data without random_number column...\n",
      "\n",
      "🚀 Starting pipeline update...\n",
      "🔗 Update in progress: https://e2-demo-field-eng.cloud.databricks.com/pipelines/e6e8285f-7f7f-4489-9f31-d2e2105d89e3/updates/c5945d2b-f74b-4d36-983c-30107726a17c\n",
      "📌 Pipeline update state: UpdateInfoState.CREATED\n",
      "📌 Pipeline update state: UpdateInfoState.WAITING_FOR_RESOURCES\n",
      "📌 Pipeline update state: UpdateInfoState.INITIALIZING\n",
      "📌 Pipeline update state: UpdateInfoState.RUNNING\n",
      "📌 Pipeline update state: UpdateInfoState.COMPLETED\n",
      "✅ Pipeline update complete.\n",
      "⏳ Waiting 10 seconds before continuing...\n",
      "\n",
      "\n",
      "📐 Altering table to add 'random_number' column...\n",
      "\n",
      "👉 Inserting new data with random_number column...\n",
      "\n",
      "🔁 Updating MV to pull 'random_number' from source instead of RANDOM()...\n",
      "\n",
      "📄 Uploading MV definition to: /Users/andrea.tardif@databricks.com/mv_insights_query.sql\n",
      "\n",
      "🚀 Starting pipeline update...\n",
      "🔗 Update in progress: https://e2-demo-field-eng.cloud.databricks.com/pipelines/e6e8285f-7f7f-4489-9f31-d2e2105d89e3/updates/84529b6e-def2-4e4d-b04d-dc43c619e809\n",
      "📌 Pipeline update state: UpdateInfoState.CREATED\n",
      "📌 Pipeline update state: UpdateInfoState.WAITING_FOR_RESOURCES\n",
      "📌 Pipeline update state: UpdateInfoState.SETTING_UP_TABLES\n",
      "📌 Pipeline update state: UpdateInfoState.RUNNING\n",
      "📌 Pipeline update state: UpdateInfoState.COMPLETED\n",
      "✅ Pipeline update complete.\n",
      "⏳ Waiting 10 seconds before continuing...\n",
      "\n",
      "\n",
      "👉 Inserting new data with random_number column...\n",
      "\n",
      "🚀 Starting pipeline update...\n",
      "🔗 Update in progress: https://e2-demo-field-eng.cloud.databricks.com/pipelines/e6e8285f-7f7f-4489-9f31-d2e2105d89e3/updates/60d3df9f-8008-40e8-97a7-7a4d923c3c23\n",
      "📌 Pipeline update state: UpdateInfoState.CREATED\n",
      "📌 Pipeline update state: UpdateInfoState.WAITING_FOR_RESOURCES\n",
      "📌 Pipeline update state: UpdateInfoState.INITIALIZING\n",
      "📌 Pipeline update state: UpdateInfoState.RUNNING\n",
      "📌 Pipeline update state: UpdateInfoState.COMPLETED\n",
      "✅ Pipeline update complete.\n",
      "⏳ Waiting 10 seconds before continuing...\n",
      "\n",
      "🏁 Demo complete.\n"
     ]
    }
   ],
   "source": [
    "from databricks.sdk import WorkspaceClient\n",
    "from databricks.sdk.service.pipelines import *\n",
    "from databricks.sdk.service.workspace import ImportFormat\n",
    "import time\n",
    "\n",
    "# Update the catalog name!\n",
    "catalog_name = \"<catalog_name>\"\n",
    "\n",
    "def run_mv_refresh_demo(catalog_name: str):\n",
    "    w = WorkspaceClient()\n",
    "    host = w.config.host\n",
    "    user = w.current_user.me().user_name\n",
    "    schema = \"demo\"\n",
    "    table = f\"{catalog_name}.{schema}.random_data\"\n",
    "    mv_path = f\"/Users/{user}/mv_insights_query.sql\"\n",
    "    pipeline_name = f\"{catalog_name}_mv_demo_pipeline_v2\"\n",
    "\n",
    "    def insert_data(with_random=False):\n",
    "        print(f\"\\n👉 Inserting new data {'with' if with_random else 'without'} random_number column...\")\n",
    "        rand_col = \", CAST(rand() * 100 AS INT) AS random_number\" if with_random else \"\"\n",
    "        spark.sql(f\"\"\"\n",
    "        INSERT INTO {table}\n",
    "        SELECT \n",
    "            CAST(rand() * 100000 AS BIGINT) AS id,\n",
    "            CASE CAST(rand() * 5 AS INT)\n",
    "                WHEN 0 THEN 'Alice'\n",
    "                WHEN 1 THEN 'Bob'\n",
    "                WHEN 2 THEN 'Charlie'\n",
    "                WHEN 3 THEN 'Diana'\n",
    "                ELSE 'Eve'\n",
    "            END AS name\n",
    "            {rand_col}\n",
    "        FROM RANGE(5)\n",
    "        \"\"\")\n",
    "\n",
    "    def upload_mv_sql(sql_text: str):\n",
    "        print(f\"\\n📄 Uploading MV definition to: {mv_path}\")\n",
    "        w.workspace.upload(\n",
    "            path=mv_path,\n",
    "            content=sql_text.encode(\"utf-8\"),\n",
    "            format=ImportFormat.SOURCE,\n",
    "            overwrite=True\n",
    "        )\n",
    "\n",
    "    def run_pipeline_and_wait():\n",
    "        print(f\"\\n🚀 Starting pipeline update...\")\n",
    "        update = w.pipelines.start_update(pipeline.pipeline_id)\n",
    "        update_id = update.update_id\n",
    "        print(f\"🔗 Update in progress: {host}/pipelines/{pipeline.pipeline_id}/updates/{update_id}\")\n",
    "\n",
    "        # Wait until update finishes\n",
    "        state = None\n",
    "        while True:\n",
    "            current_update = w.pipelines.get_update(pipeline.pipeline_id, update_id)\n",
    "            new_state = current_update.update.state\n",
    "            if new_state != state:\n",
    "                print(f\"📌 Pipeline update state: {new_state}\")\n",
    "                state = new_state\n",
    "            if new_state in [UpdateInfoState.COMPLETED, UpdateInfoState.FAILED, UpdateInfoState.CANCELED]:\n",
    "                break\n",
    "            time.sleep(5)\n",
    "\n",
    "        print(\"✅ Pipeline update complete.\")\n",
    "        print(\"⏳ Waiting 10 seconds before continuing...\\n\")\n",
    "        time.sleep(10)\n",
    "\n",
    "    # Step 1–11: Existing logic\n",
    "    print(\"\\n🗑️ Drop schema and initial table if previously created...\")\n",
    "    spark.sql(f\"DROP SCHEMA IF EXISTS {catalog_name}.{schema} CASCADE\")\n",
    "\n",
    "    print(\"\\n📁 Creating catalog, schema, and initial table...\")\n",
    "    spark.sql(f\"CREATE CATALOG IF NOT EXISTS {catalog_name}\")\n",
    "    spark.sql(f\"CREATE SCHEMA IF NOT EXISTS {catalog_name}.{schema}\")\n",
    "    spark.sql(f\"\"\"\n",
    "    CREATE OR REPLACE TABLE {table} (\n",
    "        id STRING,\n",
    "        name STRING\n",
    "    )\n",
    "    USING DELTA\n",
    "    TBLPROPERTIES (\n",
    "        'delta.autoOptimize.optimizeWrite' = 'true',\n",
    "        'delta.autoOptimize.autoCompact' = 'true',\n",
    "        'delta.enableRowTracking' = 'true',\n",
    "        'delta.enableDeletionVectors' = 'true',\n",
    "        'delta.feature.allowColumnDefaults' = 'supported'\n",
    "    )\n",
    "    \"\"\")\n",
    "    insert_data(with_random=False)\n",
    "\n",
    "    print(\"\\n🧱 Creating initial materialized view (no random)...\")\n",
    "    upload_mv_sql(f\"\"\"\n",
    "    CREATE MATERIALIZED VIEW random_data_MV_v2\n",
    "    AS\n",
    "    SELECT\n",
    "        name,\n",
    "        COUNT(id) AS name_count\n",
    "    FROM {table}\n",
    "    GROUP BY ALL\n",
    "    \"\"\")\n",
    "\n",
    "    print(\"\\n🔧 Creating pipeline...\")\n",
    "    existing = w.pipelines.list_pipelines(filter=f\"name LIKE '%{pipeline_name}%'\")\n",
    "    for p in existing:\n",
    "        print(f\"🗑️ Deleting existing pipeline: {p.pipeline_id}\")\n",
    "        w.pipelines.delete(p.pipeline_id)\n",
    "\n",
    "    pipeline = w.pipelines.create(\n",
    "        catalog=catalog_name,\n",
    "        continuous=False,\n",
    "        channel=\"PREVIEW\",\n",
    "        name=pipeline_name,\n",
    "        schema=schema,\n",
    "        libraries=[\n",
    "            PipelineLibrary(glob=PathPattern(include=mv_path))\n",
    "        ],\n",
    "        serverless=True,\n",
    "        event_log=EventLogSpec(catalog=catalog_name, schema=schema, name=\"event_log_incremental_refresh_demo_v2\")\n",
    "    )\n",
    "\n",
    "    print(f\"✅ Created pipeline ID: {pipeline.pipeline_id}\")\n",
    "    print(f\"🔗 Pipeline link: {host}/pipelines/{pipeline.pipeline_id}\")\n",
    "\n",
    "    run_pipeline_and_wait()  # Step 4\n",
    "\n",
    "    insert_data()            # Step 5\n",
    "    run_pipeline_and_wait()\n",
    "\n",
    "    print(\"\\n🔁 Updating MV to use RANDOM() in the SELECT...\")  # Step 6\n",
    "    upload_mv_sql(f\"\"\"\n",
    "    CREATE MATERIALIZED VIEW random_data_MV_v2\n",
    "    AS\n",
    "    SELECT\n",
    "        name,\n",
    "        RANDOM() as random_number,\n",
    "        COUNT(id) AS name_count\n",
    "    FROM {table}\n",
    "    GROUP BY ALL\n",
    "    \"\"\")\n",
    "\n",
    "    insert_data()            # Step 7\n",
    "    run_pipeline_and_wait()\n",
    "\n",
    "    print(\"\\n📐 Altering table to add 'random_number' column...\")  # Step 8\n",
    "    spark.sql(f\"ALTER TABLE {table} ADD COLUMNS (random_number INT)\")\n",
    "\n",
    "    insert_data(with_random=True)  # Step 9\n",
    "\n",
    "    print(\"\\n🔁 Updating MV to pull 'random_number' from source instead of RANDOM()...\")  # Step 10\n",
    "    upload_mv_sql(f\"\"\"\n",
    "    CREATE MATERIALIZED VIEW random_data_MV_v2\n",
    "    AS\n",
    "    SELECT\n",
    "        name,\n",
    "        random_number,\n",
    "        COUNT(id) AS name_count\n",
    "    FROM {table}\n",
    "    GROUP BY ALL\n",
    "    \"\"\")\n",
    "    run_pipeline_and_wait()\n",
    "\n",
    "    insert_data(with_random=True)  # Step 11\n",
    "    run_pipeline_and_wait()\n",
    "\n",
    "    print(\"🏁 Demo complete.\")\n",
    "\n",
    "run_mv_refresh_demo(catalog_name)"
   ]
  },
  {
   "cell_type": "code",
   "execution_count": 0,
   "metadata": {
    "application/vnd.databricks.v1+cell": {
     "cellMetadata": {
      "byteLimit": 2048000,
      "rowLimit": 10000
     },
     "inputWidgets": {},
     "nuid": "37ef4dab-4031-4721-8ba1-7c75699ecbb3",
     "showTitle": false,
     "tableResultSettingsMap": {
      "0": {
       "dataGridStateBlob": "{\"version\":1,\"tableState\":{\"columnPinning\":{\"left\":[\"#row_number#\"],\"right\":[]},\"columnSizing\":{},\"columnVisibility\":{}},\"settings\":{\"columns\":{}},\"syncTimestamp\":1754416088927}",
       "filterBlob": null,
       "queryPlanFiltersBlob": null,
       "tableResultIndex": 0
      }
     },
     "title": ""
    }
   },
   "outputs": [
    {
     "name": "stderr",
     "output_type": "stream",
     "text": [
      "/databricks/python/lib/python3.12/site-packages/pyspark/sql/connect/expressions.py:1056: UserWarning: WARN WindowExpression: No Partition Defined for Window operation! Moving all data to a single partition, this can cause serious performance degradation.\n",
      "  warnings.warn(\n"
     ]
    },
    {
     "data": {
      "text/html": [
       "<style scoped>\n",
       "  .table-result-container {\n",
       "    max-height: 300px;\n",
       "    overflow: auto;\n",
       "  }\n",
       "  table, th, td {\n",
       "    border: 1px solid black;\n",
       "    border-collapse: collapse;\n",
       "  }\n",
       "  th, td {\n",
       "    padding: 5px;\n",
       "  }\n",
       "  th {\n",
       "    text-align: left;\n",
       "  }\n",
       "</style><div class='table-result-container'><table class='table-result'><thead style='background-color: white'><tr><th>row_num</th><th>message</th><th>details</th></tr></thead><tbody><tr><td>1</td><td>Flow 'andrea_tardif.demo.random_data_mv_v2' has been planned in DLT to be executed as COMPLETE_RECOMPUTE.</td><td>{\"planning_information\":{\"technique_information\":[{\"incrementalization_issues\":[{\"issue_type\":\"CHANGE_SET_MISSING\",\"prevent_incrementalization\":true}]},{\"maintenance_type\":\"MAINTENANCE_TYPE_COMPLETE_RECOMPUTE\",\"is_chosen\":true,\"is_applicable\":true,\"cost\":804.0}],\"source_table_information\":[{\"table_name\":\"`andrea_tardif`.`demo`.`random_data`\",\"table_id\":\"fc63d123-c018-43f8-af10-b8d7e68aec1b\",\"catalog_table_type\":\"MANAGED\",\"full_size\":878.0,\"num_rows\":5,\"num_files\":1,\"is_size_after_pruning\":true,\"is_row_id_enabled\":true,\"is_cdf_enabled\":false,\"is_deletion_vector_enabled\":true}],\"target_table_information\":{\"table_name\":\"`andrea_tardif`.`demo`.`random_data_mv_v2`\",\"table_id\":\"2f166c3b-9765-4280-b01b-6669b814e54f\",\"full_size\":0.0,\"is_row_id_enabled\":true,\"is_cdf_enabled\":true,\"is_deletion_vector_enabled\":true},\"planning_wall_time_ms\":2090}}</td></tr><tr><td>2</td><td>Flow 'andrea_tardif.demo.random_data_mv_v2' has been planned in DLT to be executed as GROUP_AGGREGATE.</td><td>{\"planning_information\":{\"technique_information\":[{\"maintenance_type\":\"MAINTENANCE_TYPE_NO_OP\",\"incrementalization_issues\":[{\"issue_type\":\"DATA_HAS_CHANGED\",\"prevent_incrementalization\":true}]},{\"maintenance_type\":\"MAINTENANCE_TYPE_COMPLETE_RECOMPUTE\",\"is_chosen\":false,\"is_applicable\":true,\"cost\":1616.0},{\"maintenance_type\":\"MAINTENANCE_TYPE_GROUP_AGGREGATE\",\"is_chosen\":true,\"is_applicable\":true}],\"source_table_information\":[{\"table_name\":\"`andrea_tardif`.`demo`.`random_data`\",\"table_id\":\"fc63d123-c018-43f8-af10-b8d7e68aec1b\",\"catalog_table_type\":\"MANAGED\",\"full_size\":1763.0,\"num_rows\":10,\"num_files\":2,\"change_size\":885.0,\"num_changed_rows\":5,\"num_rows_in_changed_files\":5,\"num_changed_files\":1,\"change_file_read_size\":885.0,\"is_size_after_pruning\":true,\"is_row_id_enabled\":true,\"is_cdf_enabled\":false,\"is_deletion_vector_enabled\":true,\"is_change_from_legacy_cdf\":false}],\"target_table_information\":{\"table_name\":\"`andrea_tardif`.`demo`.`random_data_mv_v2`\",\"table_id\":\"2f166c3b-9765-4280-b01b-6669b814e54f\",\"full_size\":1226.0,\"is_row_id_enabled\":true,\"is_cdf_enabled\":true,\"is_deletion_vector_enabled\":true},\"planning_wall_time_ms\":8728}}</td></tr><tr><td>3</td><td>Flow 'andrea_tardif.demo.random_data_mv_v2' has been planned in DLT to be executed as COMPLETE_RECOMPUTE.</td><td>{\"planning_information\":{\"technique_information\":[{\"maintenance_type\":\"MAINTENANCE_TYPE_NO_OP\",\"incrementalization_issues\":[{\"issue_type\":\"DATA_HAS_CHANGED\",\"prevent_incrementalization\":true}]},{\"incrementalization_issues\":[{\"issue_type\":\"PLAN_NOT_DETERMINISTIC\",\"prevent_incrementalization\":true,\"expression_name\":\"Rand\",\"plan_not_deterministic_sub_type\":\"NON_DETERMINISTIC_EXPRESSION\"},{\"issue_type\":\"QUERY_FINGERPRINT_CHANGED\",\"prevent_incrementalization\":true,\"fingerprint_diff_before\":\": {\\\\n      \\\\\\\"product-class\\\\\\\" : \\\\\\\"ExprId\\\\\\\",\\\\n      \\\\\\\"id\\\\\\\" : 1\\\\n    },\\\\n    \\\\\\\"qualifier\\\\\\\" : [ ]\\\\n  } ]^^^ ],\\\\n  \\\\\\\"aggregateExpressions\\\\\\\" : [ [ {\\\\n    \\\\\\\"class\\\\\\\" : \\\\\\\"AttributeReference\\\\\\\",\\\\n    \\\\\\\"num-children\\\\\\\" : 0,\\\\n    \\\\\\\"name\\\\\\\" : \\\\\\\"none\\\\\\\",\\\\n    \\\\\\\"dataType\\\\\\\" : \\\\\\\"string\\\\\\\",\\\\n    \\\\\\\"nullable\\\\\\\" : true,\\\\n    \\\\\\\"metadata\\\\\\\" : { },\\\\n    \\\\\\\"exprId\\\\\\\" : {\\\\n      \\\\\\\"product-class\\\\\\\" : \\\\\\\"ExprId\\\\\\\",\\\\n      \\\\\\\"id\\\\\\\" : 1\\\\n    },\\\\n    \\\\\\\"qualifier\\\\\\\" : [ ]\\\\n  } ], [ {\\\\n    \\\\\\\"class\\\\\\\" : \\\\\\\"Alias\\\\\\\",\\\\n    \\\\\\\"num-children\\\\\\\" : 1,\\\\n    \\\\\\\"child\\\\\\\" : 0,\\\\n    \\\\\\\"name\\\\\\\" : \\\\\\\"\\\\\\\",\\\\n    \\\\\\\"exprId\\\\\\\" : {\\\\n      \\\\\\\"product-class\\\\\\\" : \\\\\\\"ExprId\\\\\\\",\\\\n      \\\\\\\"id\\\\\\\" : 0\\\\n    },\\\\n    \\\\\\\"qualifier\\\\\\\" : [ ],\\\\n    \\\\\\\"nonInheritableMetadataKeys\\\\\\\" : [ ]\\\\n  }, {\\\\n    \\\\\\\"class\\\\\\\" : \\\\\\\"aggregate.AggregateExpression\\\\\\\",\\\\n    \\\\\\\"num-children\\\\\\\" : 1,\\\\n    \\\\\\\"aggregateFunction\\\\\\\" : 0,\\\\n    \\\\\\\"mode\\\\\\\" : {\\\\n      \\\\\\\"object\\\\\\\" : \\\\\\\"aggregate.Complete$\\\\\\\"\\\\n    },\\\\n    \\\\\\\"isDistinct\\\\\\\" : false,\\\\n    \\\\\\\"resultIds\\\\\\\" : [ {\\\\n      \\\\\\\"product-class\\\\\\\" : \\\\\\\"ExprId\\\\\\\",\\\\n      \\\\\\\"id\\\\\\\" : 0\\\\n    } ]\\\\n  }, {\\\\n    \\\\\\\"class\\\\\\\" : \\\\\\\"aggregate.Count\\\\\\\",\\\\n    \\\\\\\"num-children\\\\\\\" : 1,\\\\n    \\\\\\\"children\\\\\\\" : [ 0 ]\\\\n  \",\"fingerprint_diff_current\":\": {\\\\n      \\\\\\\"product-class\\\\\\\" : \\\\\\\"ExprId\\\\\\\",\\\\n      \\\\\\\"id\\\\\\\" : 1\\\\n    },\\\\n    \\\\\\\"qualifier\\\\\\\" : [ ]\\\\n  } ]^^^, [ {\\\\n    \\\\\\\"class\\\\\\\" : \\\\\\\"AttributeReference\\\\\\\",\\\\n    \\\\\\\"num-children\\\\\\\" : 0,\\\\n    \\\\\\\"name\\\\\\\" : \\\\\\\"none\\\\\\\",\\\\n    \\\\\\\"dataType\\\\\\\" : \\\\\\\"double\\\\\\\",\\\\n    \\\\\\\"nullable\\\\\\\" : true,\\\\n    \\\\\\\"metadata\\\\\\\" : { },\\\\n    \\\\\\\"exprId\\\\\\\" : {\\\\n      \\\\\\\"product-class\\\\\\\" : \\\\\\\"ExprId\\\\\\\",\\\\n      \\\\\\\"id\\\\\\\" : 2\\\\n    },\\\\n    \\\\\\\"qualifier\\\\\\\" : [ ]\\\\n  } ] ],\\\\n  \\\\\\\"aggregateExpressions\\\\\\\" : [ [ {\\\\n    \\\\\\\"class\\\\\\\" : \\\\\\\"AttributeReference\\\\\\\",\\\\n    \\\\\\\"num-children\\\\\\\" : 0,\\\\n    \\\\\\\"name\\\\\\\" : \\\\\\\"none\\\\\\\",\\\\n    \\\\\\\"dataType\\\\\\\" : \\\\\\\"string\\\\\\\",\\\\n    \\\\\\\"nullable\\\\\\\" : true,\\\\n    \\\\\\\"metadata\\\\\\\" : { },\\\\n    \\\\\\\"exprId\\\\\\\" : {\\\\n      \\\\\\\"product-class\\\\\\\" : \\\\\\\"ExprId\\\\\\\",\\\\n      \\\\\\\"id\\\\\\\" : 1\\\\n    },\\\\n    \\\\\\\"qualifier\\\\\\\" : [ ]\\\\n  } ], [ {\\\\n    \\\\\\\"class\\\\\\\" : \\\\\\\"Alias\\\\\\\",\\\\n    \\\\\\\"num-children\\\\\\\" : 1,\\\\n    \\\\\\\"child\\\\\\\" : 0,\\\\n    \\\\\\\"name\\\\\\\" : \\\\\\\"\\\\\\\",\\\\n    \\\\\\\"exprId\\\\\\\" : {\\\\n      \\\\\\\"product-class\\\\\\\" : \\\\\\\"ExprId\\\\\\\",\\\\n      \\\\\\\"id\\\\\\\" : 0\\\\n    },\\\\n    \\\\\\\"qualifier\\\\\\\" : [ ],\\\\n    \\\\\\\"nonInheritableMetadataKeys\\\\\\\" : [ ]\\\\n  }, {\\\\n    \\\\\\\"class\\\\\\\" : \\\\\\\"AttributeReference\\\\\\\",\\\\n    \\\\\\\"num-children\\\\\\\" : 0,\\\\n    \\\\\\\"name\\\\\\\" : \\\\\\\"none\\\\\\\",\\\\n    \\\\\\\"dat\"}]},{\"maintenance_type\":\"MAINTENANCE_TYPE_COMPLETE_RECOMPUTE\",\"is_chosen\":true,\"is_applicable\":true,\"cost\":2877.0}],\"source_table_information\":[{\"table_name\":\"`andrea_tardif`.`demo`.`random_data`\",\"table_id\":\"fc63d123-c018-43f8-af10-b8d7e68aec1b\",\"catalog_table_type\":\"MANAGED\",\"full_size\":2657.0,\"num_rows\":15,\"num_files\":3,\"is_size_after_pruning\":true,\"is_row_id_enabled\":true,\"is_cdf_enabled\":false,\"is_deletion_vector_enabled\":true}],\"target_table_information\":{\"table_name\":\"`andrea_tardif`.`demo`.`random_data_mv_v2`\",\"table_id\":\"2f166c3b-9765-4280-b01b-6669b814e54f\",\"full_size\":2014.0,\"is_row_id_enabled\":true,\"is_cdf_enabled\":true,\"is_deletion_vector_enabled\":true},\"planning_wall_time_ms\":4229}}</td></tr><tr><td>4</td><td>Flow 'andrea_tardif.demo.random_data_mv_v2' has been planned in DLT to be executed as COMPLETE_RECOMPUTE.</td><td>{\"planning_information\":{\"technique_information\":[{\"maintenance_type\":\"MAINTENANCE_TYPE_NO_OP\",\"incrementalization_issues\":[{\"issue_type\":\"DATA_HAS_CHANGED\",\"prevent_incrementalization\":true}]},{\"incrementalization_issues\":[{\"issue_type\":\"QUERY_FINGERPRINT_CHANGED\",\"prevent_incrementalization\":true,\"fingerprint_diff_before\":\" \\\\\\\"AttributeReference\\\\\\\",\\\\n    \\\\\\\"num-children\\\\\\\" : 0,\\\\n    \\\\\\\"name\\\\\\\" : \\\\\\\"none\\\\\\\",\\\\n    \\\\\\\"dataType\\\\\\\" : \\\\\\\"^^^double\\\\\\\",\\\\n    \\\\\\\"nullable\\\\\\\" : true,\\\\n    \\\\\\\"metadata\\\\\\\" : { },\\\\n    \\\\\\\"exprId\\\\\\\" : {\\\\n      \\\\\\\"product-class\\\\\\\" : \\\\\\\"ExprId\\\\\\\",\\\\n      \\\\\\\"id\\\\\\\" : 2\\\\n    },\\\\n    \\\\\\\"qualifier\\\\\\\" : [ ]\\\\n  } ] ],\\\\n  \\\\\\\"aggregateExpressions\\\\\\\" : [ [ {\\\\n    \\\\\\\"class\\\\\\\" : \\\\\\\"AttributeReference\\\\\\\",\\\\n    \\\\\\\"num-children\\\\\\\" : 0,\\\\n    \\\\\\\"name\\\\\\\" : \\\\\\\"none\\\\\\\",\\\\n    \\\\\\\"dataType\\\\\\\" : \\\\\\\"string\\\\\\\",\\\\n    \\\\\\\"nullable\\\\\\\" : true,\\\\n    \\\\\\\"metadata\\\\\\\" : { },\\\\n    \\\\\\\"exprId\\\\\\\" : {\\\\n      \\\\\\\"product-class\\\\\\\" : \\\\\\\"ExprId\\\\\\\",\\\\n      \\\\\\\"id\\\\\\\" : 1\\\\n    },\\\\n    \\\\\\\"qualifier\\\\\\\" : [ ]\\\\n  } ], [ {\\\\n    \\\\\\\"class\\\\\\\" : \\\\\\\"Alias\\\\\\\",\\\\n    \\\\\\\"num-children\\\\\\\" : 1,\\\\n    \\\\\\\"child\\\\\\\" : 0,\\\\n    \\\\\\\"name\\\\\\\" : \\\\\\\"\\\\\\\",\\\\n    \\\\\\\"exprId\\\\\\\" : {\\\\n      \\\\\\\"product-class\\\\\\\" : \\\\\\\"ExprId\\\\\\\",\\\\n      \\\\\\\"id\\\\\\\" : 0\\\\n    },\\\\n    \\\\\\\"qualifier\\\\\\\" : [ ],\\\\n    \\\\\\\"nonInheritableMetadataKeys\\\\\\\" : [ ]\\\\n  }, {\\\\n    \\\\\\\"class\\\\\\\" : \\\\\\\"AttributeReference\\\\\\\",\\\\n    \\\\\\\"num-children\\\\\\\" : 0,\\\\n    \\\\\\\"name\\\\\\\" : \\\\\\\"none\\\\\\\",\\\\n    \\\\\\\"dataType\\\\\\\" : \\\\\\\"double\\\\\\\",\\\\n    \\\\\\\"nullable\\\\\\\" : true,\\\\n    \\\\\\\"metadata\\\\\\\" : { },\\\\n    \\\\\\\"exprId\\\\\\\" : {\\\\n      \\\\\\\"product-class\\\\\\\" : \\\\\\\"\",\"fingerprint_diff_current\":\" \\\\\\\"AttributeReference\\\\\\\",\\\\n    \\\\\\\"num-children\\\\\\\" : 0,\\\\n    \\\\\\\"name\\\\\\\" : \\\\\\\"none\\\\\\\",\\\\n    \\\\\\\"dataType\\\\\\\" : \\\\\\\"^^^integer\\\\\\\",\\\\n    \\\\\\\"nullable\\\\\\\" : true,\\\\n    \\\\\\\"metadata\\\\\\\" : { },\\\\n    \\\\\\\"exprId\\\\\\\" : {\\\\n      \\\\\\\"product-class\\\\\\\" : \\\\\\\"ExprId\\\\\\\",\\\\n      \\\\\\\"id\\\\\\\" : 2\\\\n    },\\\\n    \\\\\\\"qualifier\\\\\\\" : [ ]\\\\n  } ] ],\\\\n  \\\\\\\"aggregateExpressions\\\\\\\" : [ [ {\\\\n    \\\\\\\"class\\\\\\\" : \\\\\\\"AttributeReference\\\\\\\",\\\\n    \\\\\\\"num-children\\\\\\\" : 0,\\\\n    \\\\\\\"name\\\\\\\" : \\\\\\\"none\\\\\\\",\\\\n    \\\\\\\"dataType\\\\\\\" : \\\\\\\"string\\\\\\\",\\\\n    \\\\\\\"nullable\\\\\\\" : true,\\\\n    \\\\\\\"metadata\\\\\\\" : { },\\\\n    \\\\\\\"exprId\\\\\\\" : {\\\\n      \\\\\\\"product-class\\\\\\\" : \\\\\\\"ExprId\\\\\\\",\\\\n      \\\\\\\"id\\\\\\\" : 1\\\\n    },\\\\n    \\\\\\\"qualifier\\\\\\\" : [ ]\\\\n  } ], [ {\\\\n    \\\\\\\"class\\\\\\\" : \\\\\\\"AttributeReference\\\\\\\",\\\\n    \\\\\\\"num-children\\\\\\\" : 0,\\\\n    \\\\\\\"name\\\\\\\" : \\\\\\\"none\\\\\\\",\\\\n    \\\\\\\"dataType\\\\\\\" : \\\\\\\"integer\\\\\\\",\\\\n    \\\\\\\"nullable\\\\\\\" : true,\\\\n    \\\\\\\"metadata\\\\\\\" : { },\\\\n    \\\\\\\"exprId\\\\\\\" : {\\\\n      \\\\\\\"product-class\\\\\\\" : \\\\\\\"ExprId\\\\\\\",\\\\n      \\\\\\\"id\\\\\\\" : 2\\\\n    },\\\\n    \\\\\\\"qualifier\\\\\\\" : [ ]\\\\n  } ], [ {\\\\n    \\\\\\\"class\\\\\\\" : \\\\\\\"Alias\\\\\\\",\\\\n    \\\\\\\"num-children\\\\\\\" : 1,\\\\n    \\\\\\\"child\\\\\\\" : 0,\\\\n    \\\\\\\"name\\\\\\\" : \\\\\\\"\\\\\\\",\\\\n    \\\\\\\"exprId\\\\\\\" : {\\\\n      \\\\\\\"product-class\\\\\\\" : \\\\\\\"ExprId\\\\\\\",\\\\n      \\\\\\\"id\\\\\\\" : 0\\\\n    },\\\\n\"}]},{\"maintenance_type\":\"MAINTENANCE_TYPE_COMPLETE_RECOMPUTE\",\"is_chosen\":true,\"is_applicable\":true,\"cost\":3477.0}],\"source_table_information\":[{\"table_name\":\"`andrea_tardif`.`demo`.`random_data`\",\"table_id\":\"fc63d123-c018-43f8-af10-b8d7e68aec1b\",\"catalog_table_type\":\"MANAGED\",\"full_size\":3767.0,\"num_rows\":20,\"num_files\":4,\"is_size_after_pruning\":true,\"is_row_id_enabled\":true,\"is_cdf_enabled\":false,\"is_deletion_vector_enabled\":true}],\"target_table_information\":{\"table_name\":\"`andrea_tardif`.`demo`.`random_data_mv_v2`\",\"table_id\":\"2f166c3b-9765-4280-b01b-6669b814e54f\",\"full_size\":1593.0,\"is_row_id_enabled\":true,\"is_cdf_enabled\":true,\"is_deletion_vector_enabled\":true},\"planning_wall_time_ms\":4484}}</td></tr><tr><td>5</td><td>Flow 'andrea_tardif.demo.random_data_mv_v2' has been planned in DLT to be executed as GROUP_AGGREGATE.</td><td>{\"planning_information\":{\"technique_information\":[{\"maintenance_type\":\"MAINTENANCE_TYPE_NO_OP\",\"incrementalization_issues\":[{\"issue_type\":\"DATA_HAS_CHANGED\",\"prevent_incrementalization\":true}]},{\"maintenance_type\":\"MAINTENANCE_TYPE_COMPLETE_RECOMPUTE\",\"is_chosen\":false,\"is_applicable\":true,\"cost\":4488.0},{\"maintenance_type\":\"MAINTENANCE_TYPE_GROUP_AGGREGATE\",\"is_chosen\":true,\"is_applicable\":true}],\"source_table_information\":[{\"table_name\":\"`andrea_tardif`.`demo`.`random_data`\",\"table_id\":\"fc63d123-c018-43f8-af10-b8d7e68aec1b\",\"catalog_table_type\":\"MANAGED\",\"full_size\":4863.0,\"num_rows\":25,\"num_files\":5,\"change_size\":1096.0,\"num_changed_rows\":5,\"num_rows_in_changed_files\":5,\"num_changed_files\":1,\"change_file_read_size\":1096.0,\"is_size_after_pruning\":true,\"is_row_id_enabled\":true,\"is_cdf_enabled\":false,\"is_deletion_vector_enabled\":true,\"is_change_from_legacy_cdf\":false}],\"target_table_information\":{\"table_name\":\"`andrea_tardif`.`demo`.`random_data_mv_v2`\",\"table_id\":\"2f166c3b-9765-4280-b01b-6669b814e54f\",\"full_size\":1521.0,\"is_row_id_enabled\":true,\"is_cdf_enabled\":true,\"is_deletion_vector_enabled\":true},\"planning_wall_time_ms\":9720}}</td></tr></tbody></table></div>"
      ]
     },
     "metadata": {
      "application/vnd.databricks.v1+output": {
       "addedWidgets": {},
       "aggData": [],
       "aggError": "",
       "aggOverflow": false,
       "aggSchema": [],
       "aggSeriesLimitReached": false,
       "aggType": "",
       "arguments": {},
       "columnCustomDisplayInfos": {},
       "data": [
        [
         1,
         "Flow 'andrea_tardif.demo.random_data_mv_v2' has been planned in DLT to be executed as COMPLETE_RECOMPUTE.",
         "{\"planning_information\":{\"technique_information\":[{\"incrementalization_issues\":[{\"issue_type\":\"CHANGE_SET_MISSING\",\"prevent_incrementalization\":true}]},{\"maintenance_type\":\"MAINTENANCE_TYPE_COMPLETE_RECOMPUTE\",\"is_chosen\":true,\"is_applicable\":true,\"cost\":804.0}],\"source_table_information\":[{\"table_name\":\"`andrea_tardif`.`demo`.`random_data`\",\"table_id\":\"fc63d123-c018-43f8-af10-b8d7e68aec1b\",\"catalog_table_type\":\"MANAGED\",\"full_size\":878.0,\"num_rows\":5,\"num_files\":1,\"is_size_after_pruning\":true,\"is_row_id_enabled\":true,\"is_cdf_enabled\":false,\"is_deletion_vector_enabled\":true}],\"target_table_information\":{\"table_name\":\"`andrea_tardif`.`demo`.`random_data_mv_v2`\",\"table_id\":\"2f166c3b-9765-4280-b01b-6669b814e54f\",\"full_size\":0.0,\"is_row_id_enabled\":true,\"is_cdf_enabled\":true,\"is_deletion_vector_enabled\":true},\"planning_wall_time_ms\":2090}}"
        ],
        [
         2,
         "Flow 'andrea_tardif.demo.random_data_mv_v2' has been planned in DLT to be executed as GROUP_AGGREGATE.",
         "{\"planning_information\":{\"technique_information\":[{\"maintenance_type\":\"MAINTENANCE_TYPE_NO_OP\",\"incrementalization_issues\":[{\"issue_type\":\"DATA_HAS_CHANGED\",\"prevent_incrementalization\":true}]},{\"maintenance_type\":\"MAINTENANCE_TYPE_COMPLETE_RECOMPUTE\",\"is_chosen\":false,\"is_applicable\":true,\"cost\":1616.0},{\"maintenance_type\":\"MAINTENANCE_TYPE_GROUP_AGGREGATE\",\"is_chosen\":true,\"is_applicable\":true}],\"source_table_information\":[{\"table_name\":\"`andrea_tardif`.`demo`.`random_data`\",\"table_id\":\"fc63d123-c018-43f8-af10-b8d7e68aec1b\",\"catalog_table_type\":\"MANAGED\",\"full_size\":1763.0,\"num_rows\":10,\"num_files\":2,\"change_size\":885.0,\"num_changed_rows\":5,\"num_rows_in_changed_files\":5,\"num_changed_files\":1,\"change_file_read_size\":885.0,\"is_size_after_pruning\":true,\"is_row_id_enabled\":true,\"is_cdf_enabled\":false,\"is_deletion_vector_enabled\":true,\"is_change_from_legacy_cdf\":false}],\"target_table_information\":{\"table_name\":\"`andrea_tardif`.`demo`.`random_data_mv_v2`\",\"table_id\":\"2f166c3b-9765-4280-b01b-6669b814e54f\",\"full_size\":1226.0,\"is_row_id_enabled\":true,\"is_cdf_enabled\":true,\"is_deletion_vector_enabled\":true},\"planning_wall_time_ms\":8728}}"
        ],
        [
         3,
         "Flow 'andrea_tardif.demo.random_data_mv_v2' has been planned in DLT to be executed as COMPLETE_RECOMPUTE.",
         "{\"planning_information\":{\"technique_information\":[{\"maintenance_type\":\"MAINTENANCE_TYPE_NO_OP\",\"incrementalization_issues\":[{\"issue_type\":\"DATA_HAS_CHANGED\",\"prevent_incrementalization\":true}]},{\"incrementalization_issues\":[{\"issue_type\":\"PLAN_NOT_DETERMINISTIC\",\"prevent_incrementalization\":true,\"expression_name\":\"Rand\",\"plan_not_deterministic_sub_type\":\"NON_DETERMINISTIC_EXPRESSION\"},{\"issue_type\":\"QUERY_FINGERPRINT_CHANGED\",\"prevent_incrementalization\":true,\"fingerprint_diff_before\":\": {\\\\n      \\\\\\\"product-class\\\\\\\" : \\\\\\\"ExprId\\\\\\\",\\\\n      \\\\\\\"id\\\\\\\" : 1\\\\n    },\\\\n    \\\\\\\"qualifier\\\\\\\" : [ ]\\\\n  } ]^^^ ],\\\\n  \\\\\\\"aggregateExpressions\\\\\\\" : [ [ {\\\\n    \\\\\\\"class\\\\\\\" : \\\\\\\"AttributeReference\\\\\\\",\\\\n    \\\\\\\"num-children\\\\\\\" : 0,\\\\n    \\\\\\\"name\\\\\\\" : \\\\\\\"none\\\\\\\",\\\\n    \\\\\\\"dataType\\\\\\\" : \\\\\\\"string\\\\\\\",\\\\n    \\\\\\\"nullable\\\\\\\" : true,\\\\n    \\\\\\\"metadata\\\\\\\" : { },\\\\n    \\\\\\\"exprId\\\\\\\" : {\\\\n      \\\\\\\"product-class\\\\\\\" : \\\\\\\"ExprId\\\\\\\",\\\\n      \\\\\\\"id\\\\\\\" : 1\\\\n    },\\\\n    \\\\\\\"qualifier\\\\\\\" : [ ]\\\\n  } ], [ {\\\\n    \\\\\\\"class\\\\\\\" : \\\\\\\"Alias\\\\\\\",\\\\n    \\\\\\\"num-children\\\\\\\" : 1,\\\\n    \\\\\\\"child\\\\\\\" : 0,\\\\n    \\\\\\\"name\\\\\\\" : \\\\\\\"\\\\\\\",\\\\n    \\\\\\\"exprId\\\\\\\" : {\\\\n      \\\\\\\"product-class\\\\\\\" : \\\\\\\"ExprId\\\\\\\",\\\\n      \\\\\\\"id\\\\\\\" : 0\\\\n    },\\\\n    \\\\\\\"qualifier\\\\\\\" : [ ],\\\\n    \\\\\\\"nonInheritableMetadataKeys\\\\\\\" : [ ]\\\\n  }, {\\\\n    \\\\\\\"class\\\\\\\" : \\\\\\\"aggregate.AggregateExpression\\\\\\\",\\\\n    \\\\\\\"num-children\\\\\\\" : 1,\\\\n    \\\\\\\"aggregateFunction\\\\\\\" : 0,\\\\n    \\\\\\\"mode\\\\\\\" : {\\\\n      \\\\\\\"object\\\\\\\" : \\\\\\\"aggregate.Complete$\\\\\\\"\\\\n    },\\\\n    \\\\\\\"isDistinct\\\\\\\" : false,\\\\n    \\\\\\\"resultIds\\\\\\\" : [ {\\\\n      \\\\\\\"product-class\\\\\\\" : \\\\\\\"ExprId\\\\\\\",\\\\n      \\\\\\\"id\\\\\\\" : 0\\\\n    } ]\\\\n  }, {\\\\n    \\\\\\\"class\\\\\\\" : \\\\\\\"aggregate.Count\\\\\\\",\\\\n    \\\\\\\"num-children\\\\\\\" : 1,\\\\n    \\\\\\\"children\\\\\\\" : [ 0 ]\\\\n  \",\"fingerprint_diff_current\":\": {\\\\n      \\\\\\\"product-class\\\\\\\" : \\\\\\\"ExprId\\\\\\\",\\\\n      \\\\\\\"id\\\\\\\" : 1\\\\n    },\\\\n    \\\\\\\"qualifier\\\\\\\" : [ ]\\\\n  } ]^^^, [ {\\\\n    \\\\\\\"class\\\\\\\" : \\\\\\\"AttributeReference\\\\\\\",\\\\n    \\\\\\\"num-children\\\\\\\" : 0,\\\\n    \\\\\\\"name\\\\\\\" : \\\\\\\"none\\\\\\\",\\\\n    \\\\\\\"dataType\\\\\\\" : \\\\\\\"double\\\\\\\",\\\\n    \\\\\\\"nullable\\\\\\\" : true,\\\\n    \\\\\\\"metadata\\\\\\\" : { },\\\\n    \\\\\\\"exprId\\\\\\\" : {\\\\n      \\\\\\\"product-class\\\\\\\" : \\\\\\\"ExprId\\\\\\\",\\\\n      \\\\\\\"id\\\\\\\" : 2\\\\n    },\\\\n    \\\\\\\"qualifier\\\\\\\" : [ ]\\\\n  } ] ],\\\\n  \\\\\\\"aggregateExpressions\\\\\\\" : [ [ {\\\\n    \\\\\\\"class\\\\\\\" : \\\\\\\"AttributeReference\\\\\\\",\\\\n    \\\\\\\"num-children\\\\\\\" : 0,\\\\n    \\\\\\\"name\\\\\\\" : \\\\\\\"none\\\\\\\",\\\\n    \\\\\\\"dataType\\\\\\\" : \\\\\\\"string\\\\\\\",\\\\n    \\\\\\\"nullable\\\\\\\" : true,\\\\n    \\\\\\\"metadata\\\\\\\" : { },\\\\n    \\\\\\\"exprId\\\\\\\" : {\\\\n      \\\\\\\"product-class\\\\\\\" : \\\\\\\"ExprId\\\\\\\",\\\\n      \\\\\\\"id\\\\\\\" : 1\\\\n    },\\\\n    \\\\\\\"qualifier\\\\\\\" : [ ]\\\\n  } ], [ {\\\\n    \\\\\\\"class\\\\\\\" : \\\\\\\"Alias\\\\\\\",\\\\n    \\\\\\\"num-children\\\\\\\" : 1,\\\\n    \\\\\\\"child\\\\\\\" : 0,\\\\n    \\\\\\\"name\\\\\\\" : \\\\\\\"\\\\\\\",\\\\n    \\\\\\\"exprId\\\\\\\" : {\\\\n      \\\\\\\"product-class\\\\\\\" : \\\\\\\"ExprId\\\\\\\",\\\\n      \\\\\\\"id\\\\\\\" : 0\\\\n    },\\\\n    \\\\\\\"qualifier\\\\\\\" : [ ],\\\\n    \\\\\\\"nonInheritableMetadataKeys\\\\\\\" : [ ]\\\\n  }, {\\\\n    \\\\\\\"class\\\\\\\" : \\\\\\\"AttributeReference\\\\\\\",\\\\n    \\\\\\\"num-children\\\\\\\" : 0,\\\\n    \\\\\\\"name\\\\\\\" : \\\\\\\"none\\\\\\\",\\\\n    \\\\\\\"dat\"}]},{\"maintenance_type\":\"MAINTENANCE_TYPE_COMPLETE_RECOMPUTE\",\"is_chosen\":true,\"is_applicable\":true,\"cost\":2877.0}],\"source_table_information\":[{\"table_name\":\"`andrea_tardif`.`demo`.`random_data`\",\"table_id\":\"fc63d123-c018-43f8-af10-b8d7e68aec1b\",\"catalog_table_type\":\"MANAGED\",\"full_size\":2657.0,\"num_rows\":15,\"num_files\":3,\"is_size_after_pruning\":true,\"is_row_id_enabled\":true,\"is_cdf_enabled\":false,\"is_deletion_vector_enabled\":true}],\"target_table_information\":{\"table_name\":\"`andrea_tardif`.`demo`.`random_data_mv_v2`\",\"table_id\":\"2f166c3b-9765-4280-b01b-6669b814e54f\",\"full_size\":2014.0,\"is_row_id_enabled\":true,\"is_cdf_enabled\":true,\"is_deletion_vector_enabled\":true},\"planning_wall_time_ms\":4229}}"
        ],
        [
         4,
         "Flow 'andrea_tardif.demo.random_data_mv_v2' has been planned in DLT to be executed as COMPLETE_RECOMPUTE.",
         "{\"planning_information\":{\"technique_information\":[{\"maintenance_type\":\"MAINTENANCE_TYPE_NO_OP\",\"incrementalization_issues\":[{\"issue_type\":\"DATA_HAS_CHANGED\",\"prevent_incrementalization\":true}]},{\"incrementalization_issues\":[{\"issue_type\":\"QUERY_FINGERPRINT_CHANGED\",\"prevent_incrementalization\":true,\"fingerprint_diff_before\":\" \\\\\\\"AttributeReference\\\\\\\",\\\\n    \\\\\\\"num-children\\\\\\\" : 0,\\\\n    \\\\\\\"name\\\\\\\" : \\\\\\\"none\\\\\\\",\\\\n    \\\\\\\"dataType\\\\\\\" : \\\\\\\"^^^double\\\\\\\",\\\\n    \\\\\\\"nullable\\\\\\\" : true,\\\\n    \\\\\\\"metadata\\\\\\\" : { },\\\\n    \\\\\\\"exprId\\\\\\\" : {\\\\n      \\\\\\\"product-class\\\\\\\" : \\\\\\\"ExprId\\\\\\\",\\\\n      \\\\\\\"id\\\\\\\" : 2\\\\n    },\\\\n    \\\\\\\"qualifier\\\\\\\" : [ ]\\\\n  } ] ],\\\\n  \\\\\\\"aggregateExpressions\\\\\\\" : [ [ {\\\\n    \\\\\\\"class\\\\\\\" : \\\\\\\"AttributeReference\\\\\\\",\\\\n    \\\\\\\"num-children\\\\\\\" : 0,\\\\n    \\\\\\\"name\\\\\\\" : \\\\\\\"none\\\\\\\",\\\\n    \\\\\\\"dataType\\\\\\\" : \\\\\\\"string\\\\\\\",\\\\n    \\\\\\\"nullable\\\\\\\" : true,\\\\n    \\\\\\\"metadata\\\\\\\" : { },\\\\n    \\\\\\\"exprId\\\\\\\" : {\\\\n      \\\\\\\"product-class\\\\\\\" : \\\\\\\"ExprId\\\\\\\",\\\\n      \\\\\\\"id\\\\\\\" : 1\\\\n    },\\\\n    \\\\\\\"qualifier\\\\\\\" : [ ]\\\\n  } ], [ {\\\\n    \\\\\\\"class\\\\\\\" : \\\\\\\"Alias\\\\\\\",\\\\n    \\\\\\\"num-children\\\\\\\" : 1,\\\\n    \\\\\\\"child\\\\\\\" : 0,\\\\n    \\\\\\\"name\\\\\\\" : \\\\\\\"\\\\\\\",\\\\n    \\\\\\\"exprId\\\\\\\" : {\\\\n      \\\\\\\"product-class\\\\\\\" : \\\\\\\"ExprId\\\\\\\",\\\\n      \\\\\\\"id\\\\\\\" : 0\\\\n    },\\\\n    \\\\\\\"qualifier\\\\\\\" : [ ],\\\\n    \\\\\\\"nonInheritableMetadataKeys\\\\\\\" : [ ]\\\\n  }, {\\\\n    \\\\\\\"class\\\\\\\" : \\\\\\\"AttributeReference\\\\\\\",\\\\n    \\\\\\\"num-children\\\\\\\" : 0,\\\\n    \\\\\\\"name\\\\\\\" : \\\\\\\"none\\\\\\\",\\\\n    \\\\\\\"dataType\\\\\\\" : \\\\\\\"double\\\\\\\",\\\\n    \\\\\\\"nullable\\\\\\\" : true,\\\\n    \\\\\\\"metadata\\\\\\\" : { },\\\\n    \\\\\\\"exprId\\\\\\\" : {\\\\n      \\\\\\\"product-class\\\\\\\" : \\\\\\\"\",\"fingerprint_diff_current\":\" \\\\\\\"AttributeReference\\\\\\\",\\\\n    \\\\\\\"num-children\\\\\\\" : 0,\\\\n    \\\\\\\"name\\\\\\\" : \\\\\\\"none\\\\\\\",\\\\n    \\\\\\\"dataType\\\\\\\" : \\\\\\\"^^^integer\\\\\\\",\\\\n    \\\\\\\"nullable\\\\\\\" : true,\\\\n    \\\\\\\"metadata\\\\\\\" : { },\\\\n    \\\\\\\"exprId\\\\\\\" : {\\\\n      \\\\\\\"product-class\\\\\\\" : \\\\\\\"ExprId\\\\\\\",\\\\n      \\\\\\\"id\\\\\\\" : 2\\\\n    },\\\\n    \\\\\\\"qualifier\\\\\\\" : [ ]\\\\n  } ] ],\\\\n  \\\\\\\"aggregateExpressions\\\\\\\" : [ [ {\\\\n    \\\\\\\"class\\\\\\\" : \\\\\\\"AttributeReference\\\\\\\",\\\\n    \\\\\\\"num-children\\\\\\\" : 0,\\\\n    \\\\\\\"name\\\\\\\" : \\\\\\\"none\\\\\\\",\\\\n    \\\\\\\"dataType\\\\\\\" : \\\\\\\"string\\\\\\\",\\\\n    \\\\\\\"nullable\\\\\\\" : true,\\\\n    \\\\\\\"metadata\\\\\\\" : { },\\\\n    \\\\\\\"exprId\\\\\\\" : {\\\\n      \\\\\\\"product-class\\\\\\\" : \\\\\\\"ExprId\\\\\\\",\\\\n      \\\\\\\"id\\\\\\\" : 1\\\\n    },\\\\n    \\\\\\\"qualifier\\\\\\\" : [ ]\\\\n  } ], [ {\\\\n    \\\\\\\"class\\\\\\\" : \\\\\\\"AttributeReference\\\\\\\",\\\\n    \\\\\\\"num-children\\\\\\\" : 0,\\\\n    \\\\\\\"name\\\\\\\" : \\\\\\\"none\\\\\\\",\\\\n    \\\\\\\"dataType\\\\\\\" : \\\\\\\"integer\\\\\\\",\\\\n    \\\\\\\"nullable\\\\\\\" : true,\\\\n    \\\\\\\"metadata\\\\\\\" : { },\\\\n    \\\\\\\"exprId\\\\\\\" : {\\\\n      \\\\\\\"product-class\\\\\\\" : \\\\\\\"ExprId\\\\\\\",\\\\n      \\\\\\\"id\\\\\\\" : 2\\\\n    },\\\\n    \\\\\\\"qualifier\\\\\\\" : [ ]\\\\n  } ], [ {\\\\n    \\\\\\\"class\\\\\\\" : \\\\\\\"Alias\\\\\\\",\\\\n    \\\\\\\"num-children\\\\\\\" : 1,\\\\n    \\\\\\\"child\\\\\\\" : 0,\\\\n    \\\\\\\"name\\\\\\\" : \\\\\\\"\\\\\\\",\\\\n    \\\\\\\"exprId\\\\\\\" : {\\\\n      \\\\\\\"product-class\\\\\\\" : \\\\\\\"ExprId\\\\\\\",\\\\n      \\\\\\\"id\\\\\\\" : 0\\\\n    },\\\\n\"}]},{\"maintenance_type\":\"MAINTENANCE_TYPE_COMPLETE_RECOMPUTE\",\"is_chosen\":true,\"is_applicable\":true,\"cost\":3477.0}],\"source_table_information\":[{\"table_name\":\"`andrea_tardif`.`demo`.`random_data`\",\"table_id\":\"fc63d123-c018-43f8-af10-b8d7e68aec1b\",\"catalog_table_type\":\"MANAGED\",\"full_size\":3767.0,\"num_rows\":20,\"num_files\":4,\"is_size_after_pruning\":true,\"is_row_id_enabled\":true,\"is_cdf_enabled\":false,\"is_deletion_vector_enabled\":true}],\"target_table_information\":{\"table_name\":\"`andrea_tardif`.`demo`.`random_data_mv_v2`\",\"table_id\":\"2f166c3b-9765-4280-b01b-6669b814e54f\",\"full_size\":1593.0,\"is_row_id_enabled\":true,\"is_cdf_enabled\":true,\"is_deletion_vector_enabled\":true},\"planning_wall_time_ms\":4484}}"
        ],
        [
         5,
         "Flow 'andrea_tardif.demo.random_data_mv_v2' has been planned in DLT to be executed as GROUP_AGGREGATE.",
         "{\"planning_information\":{\"technique_information\":[{\"maintenance_type\":\"MAINTENANCE_TYPE_NO_OP\",\"incrementalization_issues\":[{\"issue_type\":\"DATA_HAS_CHANGED\",\"prevent_incrementalization\":true}]},{\"maintenance_type\":\"MAINTENANCE_TYPE_COMPLETE_RECOMPUTE\",\"is_chosen\":false,\"is_applicable\":true,\"cost\":4488.0},{\"maintenance_type\":\"MAINTENANCE_TYPE_GROUP_AGGREGATE\",\"is_chosen\":true,\"is_applicable\":true}],\"source_table_information\":[{\"table_name\":\"`andrea_tardif`.`demo`.`random_data`\",\"table_id\":\"fc63d123-c018-43f8-af10-b8d7e68aec1b\",\"catalog_table_type\":\"MANAGED\",\"full_size\":4863.0,\"num_rows\":25,\"num_files\":5,\"change_size\":1096.0,\"num_changed_rows\":5,\"num_rows_in_changed_files\":5,\"num_changed_files\":1,\"change_file_read_size\":1096.0,\"is_size_after_pruning\":true,\"is_row_id_enabled\":true,\"is_cdf_enabled\":false,\"is_deletion_vector_enabled\":true,\"is_change_from_legacy_cdf\":false}],\"target_table_information\":{\"table_name\":\"`andrea_tardif`.`demo`.`random_data_mv_v2`\",\"table_id\":\"2f166c3b-9765-4280-b01b-6669b814e54f\",\"full_size\":1521.0,\"is_row_id_enabled\":true,\"is_cdf_enabled\":true,\"is_deletion_vector_enabled\":true},\"planning_wall_time_ms\":9720}}"
        ]
       ],
       "datasetInfos": [],
       "dbfsResultPath": null,
       "isJsonSchema": true,
       "metadata": {},
       "overflow": false,
       "plotOptions": {
        "customPlotOptions": {},
        "displayType": "table",
        "pivotAggregation": null,
        "pivotColumns": null,
        "xColumns": null,
        "yColumns": null
       },
       "removedWidgets": [],
       "schema": [
        {
         "metadata": "{}",
         "name": "row_num",
         "type": "\"integer\""
        },
        {
         "metadata": "{}",
         "name": "message",
         "type": "\"string\""
        },
        {
         "metadata": "{}",
         "name": "details",
         "type": "\"string\""
        }
       ],
       "type": "table"
      }
     },
     "output_type": "display_data"
    }
   ],
   "source": [
    "from pyspark.sql.window import Window\n",
    "from pyspark.sql.functions import row_number\n",
    "\n",
    "# Query the event log\n",
    "event_log = spark.sql(f\"\"\"\n",
    "    SELECT timestamp, message, details\n",
    "    FROM {catalog_name}.demo.event_log_incremental_refresh_demo_v2\n",
    "    WHERE event_type = 'planning_information'\n",
    "    ORDER BY timestamp DESC\n",
    "\"\"\")\n",
    "\n",
    "# Add row number\n",
    "window_spec = Window.orderBy(event_log[\"timestamp\"].asc())\n",
    "event_log_with_rownum = event_log.withColumn(\"row_num\", row_number().over(window_spec))\n",
    "\n",
    "# Reorder columns if you'd like\n",
    "event_log_with_rownum = event_log_with_rownum.select(\"row_num\", \"message\", \"details\")\n",
    "\n",
    "# Display\n",
    "event_log_with_rownum.display()\n"
   ]
  },
  {
   "cell_type": "code",
   "execution_count": 0,
   "metadata": {
    "application/vnd.databricks.v1+cell": {
     "cellMetadata": {},
     "inputWidgets": {},
     "nuid": "b29af2db-6c6e-40e1-ba92-274fc27938a5",
     "showTitle": false,
     "tableResultSettingsMap": {},
     "title": ""
    }
   },
   "outputs": [],
   "source": []
  }
 ],
 "metadata": {
  "application/vnd.databricks.v1+notebook": {
   "computePreferences": null,
   "dashboards": [],
   "environmentMetadata": {
    "base_environment": "dbe_65bc13ea-276c-4905-a728-9fe2fb1780e2",
    "environment_version": "2"
   },
   "inputWidgetPreferences": null,
   "language": "python",
   "notebookMetadata": {
    "mostRecentlyExecutedCommandWithImplicitDF": {
     "commandId": 7424973428863483,
     "dataframes": [
      "_sqldf"
     ]
    },
    "pythonIndentUnit": 2
   },
   "notebookName": "Untitled Notebook 2025-08-05 09:32:45",
   "widgets": {}
  },
  "language_info": {
   "name": "python"
  }
 },
 "nbformat": 4,
 "nbformat_minor": 0
}
